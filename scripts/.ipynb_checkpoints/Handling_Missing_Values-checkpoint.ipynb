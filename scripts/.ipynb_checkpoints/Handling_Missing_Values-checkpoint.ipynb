{
 "cells": [
  {
   "cell_type": "code",
   "execution_count": 1,
   "metadata": {
    "id": "KY7NHip9LDqV"
   },
   "outputs": [],
   "source": [
    "import pandas as pd\n",
    "import numpy as np\n",
    "import matplotlib\n",
    "import matplotlib.pyplot as plt\n",
    "import seaborn as sns\n",
    "import plotly\n",
    "import plotly.express as px"
   ]
  },
  {
   "cell_type": "code",
   "execution_count": 2,
   "metadata": {
    "id": "Q8Gi19pXLQ9z"
   },
   "outputs": [],
   "source": [
    "data = pd.read_csv(\"https://raw.githubusercontent.com/realaryagupta/Cardiovascular-Disease-Risk-Prediction/refs/heads/main/dataset/framingham.csv\")"
   ]
  },
  {
   "cell_type": "code",
   "execution_count": 3,
   "metadata": {
    "colab": {
     "base_uri": "https://localhost:8080/",
     "height": 226
    },
    "id": "CEVFTNisLpyj",
    "outputId": "21b82385-b6d2-4e1d-e52f-84614f934416"
   },
   "outputs": [
    {
     "data": {
      "text/html": [
       "<div>\n",
       "<style scoped>\n",
       "    .dataframe tbody tr th:only-of-type {\n",
       "        vertical-align: middle;\n",
       "    }\n",
       "\n",
       "    .dataframe tbody tr th {\n",
       "        vertical-align: top;\n",
       "    }\n",
       "\n",
       "    .dataframe thead th {\n",
       "        text-align: right;\n",
       "    }\n",
       "</style>\n",
       "<table border=\"1\" class=\"dataframe\">\n",
       "  <thead>\n",
       "    <tr style=\"text-align: right;\">\n",
       "      <th></th>\n",
       "      <th>male</th>\n",
       "      <th>age</th>\n",
       "      <th>education</th>\n",
       "      <th>currentSmoker</th>\n",
       "      <th>cigsPerDay</th>\n",
       "      <th>BPMeds</th>\n",
       "      <th>prevalentStroke</th>\n",
       "      <th>prevalentHyp</th>\n",
       "      <th>diabetes</th>\n",
       "      <th>totChol</th>\n",
       "      <th>sysBP</th>\n",
       "      <th>diaBP</th>\n",
       "      <th>BMI</th>\n",
       "      <th>heartRate</th>\n",
       "      <th>glucose</th>\n",
       "      <th>TenYearCHD</th>\n",
       "    </tr>\n",
       "  </thead>\n",
       "  <tbody>\n",
       "    <tr>\n",
       "      <th>0</th>\n",
       "      <td>1</td>\n",
       "      <td>39</td>\n",
       "      <td>4.0</td>\n",
       "      <td>0</td>\n",
       "      <td>0.0</td>\n",
       "      <td>0.0</td>\n",
       "      <td>0</td>\n",
       "      <td>0</td>\n",
       "      <td>0</td>\n",
       "      <td>195.0</td>\n",
       "      <td>106.0</td>\n",
       "      <td>70.0</td>\n",
       "      <td>26.97</td>\n",
       "      <td>80.0</td>\n",
       "      <td>77.0</td>\n",
       "      <td>0</td>\n",
       "    </tr>\n",
       "    <tr>\n",
       "      <th>1</th>\n",
       "      <td>0</td>\n",
       "      <td>46</td>\n",
       "      <td>2.0</td>\n",
       "      <td>0</td>\n",
       "      <td>0.0</td>\n",
       "      <td>0.0</td>\n",
       "      <td>0</td>\n",
       "      <td>0</td>\n",
       "      <td>0</td>\n",
       "      <td>250.0</td>\n",
       "      <td>121.0</td>\n",
       "      <td>81.0</td>\n",
       "      <td>28.73</td>\n",
       "      <td>95.0</td>\n",
       "      <td>76.0</td>\n",
       "      <td>0</td>\n",
       "    </tr>\n",
       "    <tr>\n",
       "      <th>2</th>\n",
       "      <td>1</td>\n",
       "      <td>48</td>\n",
       "      <td>1.0</td>\n",
       "      <td>1</td>\n",
       "      <td>20.0</td>\n",
       "      <td>0.0</td>\n",
       "      <td>0</td>\n",
       "      <td>0</td>\n",
       "      <td>0</td>\n",
       "      <td>245.0</td>\n",
       "      <td>127.5</td>\n",
       "      <td>80.0</td>\n",
       "      <td>25.34</td>\n",
       "      <td>75.0</td>\n",
       "      <td>70.0</td>\n",
       "      <td>0</td>\n",
       "    </tr>\n",
       "    <tr>\n",
       "      <th>3</th>\n",
       "      <td>0</td>\n",
       "      <td>61</td>\n",
       "      <td>3.0</td>\n",
       "      <td>1</td>\n",
       "      <td>30.0</td>\n",
       "      <td>0.0</td>\n",
       "      <td>0</td>\n",
       "      <td>1</td>\n",
       "      <td>0</td>\n",
       "      <td>225.0</td>\n",
       "      <td>150.0</td>\n",
       "      <td>95.0</td>\n",
       "      <td>28.58</td>\n",
       "      <td>65.0</td>\n",
       "      <td>103.0</td>\n",
       "      <td>1</td>\n",
       "    </tr>\n",
       "    <tr>\n",
       "      <th>4</th>\n",
       "      <td>0</td>\n",
       "      <td>46</td>\n",
       "      <td>3.0</td>\n",
       "      <td>1</td>\n",
       "      <td>23.0</td>\n",
       "      <td>0.0</td>\n",
       "      <td>0</td>\n",
       "      <td>0</td>\n",
       "      <td>0</td>\n",
       "      <td>285.0</td>\n",
       "      <td>130.0</td>\n",
       "      <td>84.0</td>\n",
       "      <td>23.10</td>\n",
       "      <td>85.0</td>\n",
       "      <td>85.0</td>\n",
       "      <td>0</td>\n",
       "    </tr>\n",
       "  </tbody>\n",
       "</table>\n",
       "</div>"
      ],
      "text/plain": [
       "   male  age  education  currentSmoker  cigsPerDay  BPMeds  prevalentStroke  \\\n",
       "0     1   39        4.0              0         0.0     0.0                0   \n",
       "1     0   46        2.0              0         0.0     0.0                0   \n",
       "2     1   48        1.0              1        20.0     0.0                0   \n",
       "3     0   61        3.0              1        30.0     0.0                0   \n",
       "4     0   46        3.0              1        23.0     0.0                0   \n",
       "\n",
       "   prevalentHyp  diabetes  totChol  sysBP  diaBP    BMI  heartRate  glucose  \\\n",
       "0             0         0    195.0  106.0   70.0  26.97       80.0     77.0   \n",
       "1             0         0    250.0  121.0   81.0  28.73       95.0     76.0   \n",
       "2             0         0    245.0  127.5   80.0  25.34       75.0     70.0   \n",
       "3             1         0    225.0  150.0   95.0  28.58       65.0    103.0   \n",
       "4             0         0    285.0  130.0   84.0  23.10       85.0     85.0   \n",
       "\n",
       "   TenYearCHD  \n",
       "0           0  \n",
       "1           0  \n",
       "2           0  \n",
       "3           1  \n",
       "4           0  "
      ]
     },
     "execution_count": 3,
     "metadata": {},
     "output_type": "execute_result"
    }
   ],
   "source": [
    "data.head()"
   ]
  },
  {
   "cell_type": "code",
   "execution_count": 4,
   "metadata": {
    "colab": {
     "base_uri": "https://localhost:8080/"
    },
    "id": "jxzw_U7aLvAS",
    "outputId": "9d46d97e-3331-4d13-a3bc-77cf3cc10946"
   },
   "outputs": [
    {
     "name": "stdout",
     "output_type": "stream",
     "text": [
      "<class 'pandas.core.frame.DataFrame'>\n",
      "RangeIndex: 4240 entries, 0 to 4239\n",
      "Data columns (total 16 columns):\n",
      " #   Column           Non-Null Count  Dtype  \n",
      "---  ------           --------------  -----  \n",
      " 0   male             4240 non-null   int64  \n",
      " 1   age              4240 non-null   int64  \n",
      " 2   education        4135 non-null   float64\n",
      " 3   currentSmoker    4240 non-null   int64  \n",
      " 4   cigsPerDay       4211 non-null   float64\n",
      " 5   BPMeds           4187 non-null   float64\n",
      " 6   prevalentStroke  4240 non-null   int64  \n",
      " 7   prevalentHyp     4240 non-null   int64  \n",
      " 8   diabetes         4240 non-null   int64  \n",
      " 9   totChol          4190 non-null   float64\n",
      " 10  sysBP            4240 non-null   float64\n",
      " 11  diaBP            4240 non-null   float64\n",
      " 12  BMI              4221 non-null   float64\n",
      " 13  heartRate        4239 non-null   float64\n",
      " 14  glucose          3852 non-null   float64\n",
      " 15  TenYearCHD       4240 non-null   int64  \n",
      "dtypes: float64(9), int64(7)\n",
      "memory usage: 530.1 KB\n"
     ]
    }
   ],
   "source": [
    "data.info()"
   ]
  },
  {
   "cell_type": "code",
   "execution_count": 5,
   "metadata": {
    "colab": {
     "base_uri": "https://localhost:8080/",
     "height": 585
    },
    "id": "KJTWgqHGLy2y",
    "outputId": "a56d44cd-6882-476a-8ed8-28a5a2d8708c"
   },
   "outputs": [
    {
     "data": {
      "text/plain": [
       "male                 0\n",
       "age                  0\n",
       "education          105\n",
       "currentSmoker        0\n",
       "cigsPerDay          29\n",
       "BPMeds              53\n",
       "prevalentStroke      0\n",
       "prevalentHyp         0\n",
       "diabetes             0\n",
       "totChol             50\n",
       "sysBP                0\n",
       "diaBP                0\n",
       "BMI                 19\n",
       "heartRate            1\n",
       "glucose            388\n",
       "TenYearCHD           0\n",
       "dtype: int64"
      ]
     },
     "execution_count": 5,
     "metadata": {},
     "output_type": "execute_result"
    }
   ],
   "source": [
    "data.isna().sum()"
   ]
  },
  {
   "cell_type": "code",
   "execution_count": 6,
   "metadata": {
    "colab": {
     "base_uri": "https://localhost:8080/"
    },
    "id": "Ike8NRVuL4Uy",
    "outputId": "d2634b59-52bc-40ff-a7a9-71102583c013"
   },
   "outputs": [
    {
     "name": "stdout",
     "output_type": "stream",
     "text": [
      "There are 4240 rows and 16 columns\n"
     ]
    }
   ],
   "source": [
    "shape = data.shape\n",
    "print(f\"There are {shape[0]} rows and {shape[1]} columns\")"
   ]
  },
  {
   "cell_type": "markdown",
   "metadata": {
    "id": "MqywxL3_Ubvc"
   },
   "source": [
    "# **Handling Missing Data**\n",
    "\n",
    "Machine Learning models are not effective at handling missing values, so it is crucial to address them appropriately. When dealing with missing data, there are two main approaches:\n",
    "\n",
    "1. **Removing Rows**: This involves removing rows with missing data, but it is generally a less preferred option since it may lead to the loss of valuable information.\n",
    "\n",
    "2. **Imputation**: Filling in missing values with estimated ones. Imputation can be categorized into two types:\n",
    "   - **Univariate**: Filling values in a single column at a time.\n",
    "   - **Multivariate**: Filling values across multiple columns simultaneously.\n",
    "\n",
    "---\n",
    "\n",
    "## **Univariate and Multivariate Imputation**\n",
    "\n",
    "### **Univariate Imputation**\n",
    "Univariate imputation focuses on filling missing values in one column at a time. The technique depends on whether the missing data is numerical or categorical:\n",
    "\n",
    "- **Numerical Data**:\n",
    "  - Fill with mean or median.\n",
    "  - Use random values.\n",
    "  - Fill with an \"end of distribution\" value.\n",
    "\n",
    "- **Categorical Data**:\n",
    "  - Fill with mode.\n",
    "  - Insert the word \"MISSING.\"\n",
    "\n",
    "For univariate imputation, the `SimpleImputer` class is commonly used.\n",
    "\n",
    "---\n",
    "\n",
    "### **Multivariate Imputation**\n",
    "Multivariate imputation addresses missing values across multiple columns at once. Techniques include:\n",
    "- **KNN Imputer Algorithm**\n",
    "- **Iterative Imputer** (based on the MICE algorithm).\n",
    "\n",
    "Both `KNN Imputer` and `Iterative Imputer` are implemented as classes.\n",
    "\n",
    "---\n",
    "\n",
    "## **1. Removing Missing Data: Complete Case Analysis (CCA)**\n",
    "\n",
    "The method of removing rows with missing data is known as **Complete Case Analysis (CCA)** or **List-wise Deletion**. CCA involves analyzing only rows with complete data across all columns.\n",
    "\n",
    "### **Assumptions for CCA**\n",
    "- Data is **Missing Completely At Random (MCAR)**.\n",
    "\n",
    "### **Example**:\n",
    "If a dataset contains 1,000 rows and 4 columns, with 50 missing values in the 'Age' column, applying CCA will remove those 50 rows, reducing the dataset to 950 rows. CCA assumes these missing values are randomly distributed (MCAR).\n",
    "\n",
    "---\n",
    "\n",
    "### **Advantages of CCA**\n",
    "- Simple to implement with no data manipulation.\n",
    "- Preserves the original variable distribution if data is MCAR.\n",
    "\n",
    "### **Disadvantages of CCA**\n",
    "- May exclude a significant portion of the dataset if missing data is extensive.\n",
    "- Missing data could be informative for analysis if it is not MCAR.\n",
    "- Models deployed in production may struggle to handle missing data effectively.\n",
    "\n",
    "**Note**: Due to these disadvantages, CCA is typically not the preferred method.\n",
    "\n",
    "---\n",
    "\n",
    "### **When to Use CCA**\n",
    "- The data must be **Missing Completely At Random (MCAR)**.\n",
    "- Less than 5% of the dataset should be missing.\n",
    "\n"
   ]
  },
  {
   "cell_type": "markdown",
   "metadata": {
    "id": "XCuf2UzZVCn8"
   },
   "source": [
    "## **Complete Case Analysis**"
   ]
  },
  {
   "cell_type": "markdown",
   "metadata": {
    "id": "t3JZYFzQVOSs"
   },
   "source": [
    "In this dataset, CCA can be applied on Education , CigsPerDay , BPMeds , totChol , BMI , heartRate columns."
   ]
  },
  {
   "cell_type": "code",
   "execution_count": 7,
   "metadata": {
    "colab": {
     "base_uri": "https://localhost:8080/"
    },
    "id": "_kw-OvjOMEYS",
    "outputId": "2bd2b12f-308f-43aa-9142-f738a41fe02a"
   },
   "outputs": [
    {
     "data": {
      "text/plain": [
       "['education', 'cigsPerDay', 'BPMeds', 'totChol', 'BMI', 'heartRate']"
      ]
     },
     "execution_count": 7,
     "metadata": {},
     "output_type": "execute_result"
    }
   ],
   "source": [
    "cols = [var for var in data.columns if data[var].isnull().mean() < 0.05 and data[var].isnull().mean() > 0]\n",
    "cols"
   ]
  },
  {
   "cell_type": "code",
   "execution_count": 8,
   "metadata": {
    "colab": {
     "base_uri": "https://localhost:8080/",
     "height": 206
    },
    "id": "9786MXIFVT3k",
    "outputId": "c8b82678-56e2-4627-8463-316c2622abfb"
   },
   "outputs": [
    {
     "data": {
      "text/html": [
       "<div>\n",
       "<style scoped>\n",
       "    .dataframe tbody tr th:only-of-type {\n",
       "        vertical-align: middle;\n",
       "    }\n",
       "\n",
       "    .dataframe tbody tr th {\n",
       "        vertical-align: top;\n",
       "    }\n",
       "\n",
       "    .dataframe thead th {\n",
       "        text-align: right;\n",
       "    }\n",
       "</style>\n",
       "<table border=\"1\" class=\"dataframe\">\n",
       "  <thead>\n",
       "    <tr style=\"text-align: right;\">\n",
       "      <th></th>\n",
       "      <th>education</th>\n",
       "      <th>cigsPerDay</th>\n",
       "      <th>BPMeds</th>\n",
       "      <th>totChol</th>\n",
       "      <th>BMI</th>\n",
       "      <th>heartRate</th>\n",
       "    </tr>\n",
       "  </thead>\n",
       "  <tbody>\n",
       "    <tr>\n",
       "      <th>138</th>\n",
       "      <td>3.0</td>\n",
       "      <td>30.0</td>\n",
       "      <td>0.0</td>\n",
       "      <td>187.0</td>\n",
       "      <td>20.50</td>\n",
       "      <td>66.0</td>\n",
       "    </tr>\n",
       "    <tr>\n",
       "      <th>1169</th>\n",
       "      <td>2.0</td>\n",
       "      <td>20.0</td>\n",
       "      <td>0.0</td>\n",
       "      <td>200.0</td>\n",
       "      <td>26.84</td>\n",
       "      <td>80.0</td>\n",
       "    </tr>\n",
       "    <tr>\n",
       "      <th>1363</th>\n",
       "      <td>1.0</td>\n",
       "      <td>40.0</td>\n",
       "      <td>0.0</td>\n",
       "      <td>205.0</td>\n",
       "      <td>22.24</td>\n",
       "      <td>90.0</td>\n",
       "    </tr>\n",
       "    <tr>\n",
       "      <th>1019</th>\n",
       "      <td>2.0</td>\n",
       "      <td>10.0</td>\n",
       "      <td>0.0</td>\n",
       "      <td>242.0</td>\n",
       "      <td>21.85</td>\n",
       "      <td>75.0</td>\n",
       "    </tr>\n",
       "    <tr>\n",
       "      <th>1427</th>\n",
       "      <td>3.0</td>\n",
       "      <td>20.0</td>\n",
       "      <td>0.0</td>\n",
       "      <td>221.0</td>\n",
       "      <td>24.09</td>\n",
       "      <td>90.0</td>\n",
       "    </tr>\n",
       "  </tbody>\n",
       "</table>\n",
       "</div>"
      ],
      "text/plain": [
       "      education  cigsPerDay  BPMeds  totChol    BMI  heartRate\n",
       "138         3.0        30.0     0.0    187.0  20.50       66.0\n",
       "1169        2.0        20.0     0.0    200.0  26.84       80.0\n",
       "1363        1.0        40.0     0.0    205.0  22.24       90.0\n",
       "1019        2.0        10.0     0.0    242.0  21.85       75.0\n",
       "1427        3.0        20.0     0.0    221.0  24.09       90.0"
      ]
     },
     "execution_count": 8,
     "metadata": {},
     "output_type": "execute_result"
    }
   ],
   "source": [
    "data[cols].sample(5)"
   ]
  },
  {
   "cell_type": "code",
   "execution_count": 9,
   "metadata": {
    "colab": {
     "base_uri": "https://localhost:8080/"
    },
    "id": "Rkec7ehVVW6i",
    "outputId": "cab33186-7f92-4e91-b015-8906282ad873"
   },
   "outputs": [
    {
     "data": {
      "text/plain": [
       "0.9408018867924528"
      ]
     },
     "execution_count": 9,
     "metadata": {},
     "output_type": "execute_result"
    }
   ],
   "source": [
    "len(data[cols].dropna()) / len(data)"
   ]
  },
  {
   "cell_type": "markdown",
   "metadata": {
    "id": "jM5d-TThVg3M"
   },
   "source": [
    "so we can clearly see that 94% data will be left after removal of null values.\n"
   ]
  },
  {
   "cell_type": "code",
   "execution_count": 10,
   "metadata": {
    "colab": {
     "base_uri": "https://localhost:8080/"
    },
    "id": "E5ptVfc1Vf7y",
    "outputId": "165047d6-de39-492c-8019-57de49657b83"
   },
   "outputs": [
    {
     "data": {
      "text/plain": [
       "((4240, 16), (3989, 6))"
      ]
     },
     "execution_count": 10,
     "metadata": {},
     "output_type": "execute_result"
    }
   ],
   "source": [
    "new_data = data[cols].dropna()\n",
    "data.shape , new_data.shape"
   ]
  },
  {
   "cell_type": "markdown",
   "metadata": {
    "id": "YdAGV5fsWBtM"
   },
   "source": [
    "Pro TIP: If you have applied CCA on numerical data, then plot a Histogram for before applying CCA and after applying CCA, if both the distributions are comparable, then you're good to go."
   ]
  },
  {
   "cell_type": "code",
   "execution_count": 12,
   "metadata": {
    "colab": {
     "base_uri": "https://localhost:8080/",
     "height": 472
    },
    "id": "Yj8sg4ImVzUi",
    "outputId": "499a8632-4f0e-41ca-c6b8-94779a2b2549"
   },
   "outputs": [
    {
     "data": {
      "image/png": "[encoded data removed]",
      "text/plain": [
       "<Figure size 800x600 with 1 Axes>"
      ]
     },
     "metadata": {},
     "output_type": "display_data"
    }
   ],
   "source": [
    "fig = plt.figure(figsize=(8, 6))\n",
    "ax = fig.add_subplot(111)\n",
    "\n",
    "data['BMI'].hist(bins=50, ax=ax, density=True, color='red', label='Original Data')\n",
    "new_data['BMI'].hist(bins=50, ax=ax, density=True, color='blue', alpha=0.8, label='New Data')\n",
    "\n",
    "ax.legend()\n",
    "ax.set_xlabel('BMI')\n",
    "ax.set_ylabel('Density')\n",
    "ax.set_title('BMI Distribution')\n",
    "\n",
    "plt.show()"
   ]
  },
  {
   "cell_type": "markdown",
   "metadata": {
    "id": "R0XK7vHPY2y1"
   },
   "source": [
    "## 2.Filling Missing Values:  Simple Imputer: Numerical Data"
   ]
  },
  {
   "cell_type": "code",
   "execution_count": 13,
   "metadata": {
    "id": "cvAyKFeyWIei"
   },
   "outputs": [],
   "source": [
    "from sklearn.model_selection import train_test_split\n",
    "from sklearn.impute import SimpleImputer\n",
    "from sklearn.compose import ColumnTransformer"
   ]
  },
  {
   "cell_type": "code",
   "execution_count": 14,
   "metadata": {
    "id": "DUMa_XfqY9MT"
   },
   "outputs": [],
   "source": [
    "data2 = pd.read_csv(\"https://raw.githubusercontent.com/realaryagupta/Cardiovascular-Disease-Risk-Prediction/refs/heads/main/dataset/framingham.csv\")"
   ]
  },
  {
   "cell_type": "code",
   "execution_count": 15,
   "metadata": {
    "colab": {
     "base_uri": "https://localhost:8080/",
     "height": 226
    },
    "id": "Btr917PqZEUC",
    "outputId": "7abf5da0-42da-4432-c295-b3c07eef61f7"
   },
   "outputs": [
    {
     "data": {
      "text/html": [
       "<div>\n",
       "<style scoped>\n",
       "    .dataframe tbody tr th:only-of-type {\n",
       "        vertical-align: middle;\n",
       "    }\n",
       "\n",
       "    .dataframe tbody tr th {\n",
       "        vertical-align: top;\n",
       "    }\n",
       "\n",
       "    .dataframe thead th {\n",
       "        text-align: right;\n",
       "    }\n",
       "</style>\n",
       "<table border=\"1\" class=\"dataframe\">\n",
       "  <thead>\n",
       "    <tr style=\"text-align: right;\">\n",
       "      <th></th>\n",
       "      <th>male</th>\n",
       "      <th>age</th>\n",
       "      <th>education</th>\n",
       "      <th>currentSmoker</th>\n",
       "      <th>cigsPerDay</th>\n",
       "      <th>BPMeds</th>\n",
       "      <th>prevalentStroke</th>\n",
       "      <th>prevalentHyp</th>\n",
       "      <th>diabetes</th>\n",
       "      <th>totChol</th>\n",
       "      <th>sysBP</th>\n",
       "      <th>diaBP</th>\n",
       "      <th>BMI</th>\n",
       "      <th>heartRate</th>\n",
       "      <th>glucose</th>\n",
       "      <th>TenYearCHD</th>\n",
       "    </tr>\n",
       "  </thead>\n",
       "  <tbody>\n",
       "    <tr>\n",
       "      <th>0</th>\n",
       "      <td>1</td>\n",
       "      <td>39</td>\n",
       "      <td>4.0</td>\n",
       "      <td>0</td>\n",
       "      <td>0.0</td>\n",
       "      <td>0.0</td>\n",
       "      <td>0</td>\n",
       "      <td>0</td>\n",
       "      <td>0</td>\n",
       "      <td>195.0</td>\n",
       "      <td>106.0</td>\n",
       "      <td>70.0</td>\n",
       "      <td>26.97</td>\n",
       "      <td>80.0</td>\n",
       "      <td>77.0</td>\n",
       "      <td>0</td>\n",
       "    </tr>\n",
       "    <tr>\n",
       "      <th>1</th>\n",
       "      <td>0</td>\n",
       "      <td>46</td>\n",
       "      <td>2.0</td>\n",
       "      <td>0</td>\n",
       "      <td>0.0</td>\n",
       "      <td>0.0</td>\n",
       "      <td>0</td>\n",
       "      <td>0</td>\n",
       "      <td>0</td>\n",
       "      <td>250.0</td>\n",
       "      <td>121.0</td>\n",
       "      <td>81.0</td>\n",
       "      <td>28.73</td>\n",
       "      <td>95.0</td>\n",
       "      <td>76.0</td>\n",
       "      <td>0</td>\n",
       "    </tr>\n",
       "    <tr>\n",
       "      <th>2</th>\n",
       "      <td>1</td>\n",
       "      <td>48</td>\n",
       "      <td>1.0</td>\n",
       "      <td>1</td>\n",
       "      <td>20.0</td>\n",
       "      <td>0.0</td>\n",
       "      <td>0</td>\n",
       "      <td>0</td>\n",
       "      <td>0</td>\n",
       "      <td>245.0</td>\n",
       "      <td>127.5</td>\n",
       "      <td>80.0</td>\n",
       "      <td>25.34</td>\n",
       "      <td>75.0</td>\n",
       "      <td>70.0</td>\n",
       "      <td>0</td>\n",
       "    </tr>\n",
       "    <tr>\n",
       "      <th>3</th>\n",
       "      <td>0</td>\n",
       "      <td>61</td>\n",
       "      <td>3.0</td>\n",
       "      <td>1</td>\n",
       "      <td>30.0</td>\n",
       "      <td>0.0</td>\n",
       "      <td>0</td>\n",
       "      <td>1</td>\n",
       "      <td>0</td>\n",
       "      <td>225.0</td>\n",
       "      <td>150.0</td>\n",
       "      <td>95.0</td>\n",
       "      <td>28.58</td>\n",
       "      <td>65.0</td>\n",
       "      <td>103.0</td>\n",
       "      <td>1</td>\n",
       "    </tr>\n",
       "    <tr>\n",
       "      <th>4</th>\n",
       "      <td>0</td>\n",
       "      <td>46</td>\n",
       "      <td>3.0</td>\n",
       "      <td>1</td>\n",
       "      <td>23.0</td>\n",
       "      <td>0.0</td>\n",
       "      <td>0</td>\n",
       "      <td>0</td>\n",
       "      <td>0</td>\n",
       "      <td>285.0</td>\n",
       "      <td>130.0</td>\n",
       "      <td>84.0</td>\n",
       "      <td>23.10</td>\n",
       "      <td>85.0</td>\n",
       "      <td>85.0</td>\n",
       "      <td>0</td>\n",
       "    </tr>\n",
       "  </tbody>\n",
       "</table>\n",
       "</div>"
      ],
      "text/plain": [
       "   male  age  education  currentSmoker  cigsPerDay  BPMeds  prevalentStroke  \\\n",
       "0     1   39        4.0              0         0.0     0.0                0   \n",
       "1     0   46        2.0              0         0.0     0.0                0   \n",
       "2     1   48        1.0              1        20.0     0.0                0   \n",
       "3     0   61        3.0              1        30.0     0.0                0   \n",
       "4     0   46        3.0              1        23.0     0.0                0   \n",
       "\n",
       "   prevalentHyp  diabetes  totChol  sysBP  diaBP    BMI  heartRate  glucose  \\\n",
       "0             0         0    195.0  106.0   70.0  26.97       80.0     77.0   \n",
       "1             0         0    250.0  121.0   81.0  28.73       95.0     76.0   \n",
       "2             0         0    245.0  127.5   80.0  25.34       75.0     70.0   \n",
       "3             1         0    225.0  150.0   95.0  28.58       65.0    103.0   \n",
       "4             0         0    285.0  130.0   84.0  23.10       85.0     85.0   \n",
       "\n",
       "   TenYearCHD  \n",
       "0           0  \n",
       "1           0  \n",
       "2           0  \n",
       "3           1  \n",
       "4           0  "
      ]
     },
     "execution_count": 15,
     "metadata": {},
     "output_type": "execute_result"
    }
   ],
   "source": [
    "data2.head()"
   ]
  },
  {
   "cell_type": "code",
   "execution_count": 16,
   "metadata": {
    "colab": {
     "base_uri": "https://localhost:8080/"
    },
    "id": "oC52lceAZGtD",
    "outputId": "fab7f9ca-5b23-4bd4-b6aa-42a6abcf671b"
   },
   "outputs": [
    {
     "data": {
      "text/plain": [
       "['education', 'cigsPerDay', 'BPMeds', 'totChol', 'BMI', 'heartRate']"
      ]
     },
     "execution_count": 16,
     "metadata": {},
     "output_type": "execute_result"
    }
   ],
   "source": [
    "columnss = [var for var in data2.columns if data2[var].isnull().mean() < 0.05 and data2[var].isnull().mean() > 0]\n",
    "columnss"
   ]
  },
  {
   "cell_type": "code",
   "execution_count": 17,
   "metadata": {
    "id": "cTsCGVfBZMJy"
   },
   "outputs": [],
   "source": [
    "new = data2[columnss].sample(5)"
   ]
  },
  {
   "cell_type": "code",
   "execution_count": 18,
   "metadata": {
    "colab": {
     "base_uri": "https://localhost:8080/"
    },
    "id": "7XKNpK_xZPwS",
    "outputId": "1095517a-207c-43da-b246-0775795a7952"
   },
   "outputs": [
    {
     "name": "stdout",
     "output_type": "stream",
     "text": [
      "<class 'pandas.core.frame.DataFrame'>\n",
      "RangeIndex: 4240 entries, 0 to 4239\n",
      "Data columns (total 6 columns):\n",
      " #   Column      Non-Null Count  Dtype  \n",
      "---  ------      --------------  -----  \n",
      " 0   education   4135 non-null   float64\n",
      " 1   cigsPerDay  4211 non-null   float64\n",
      " 2   BPMeds      4187 non-null   float64\n",
      " 3   totChol     4190 non-null   float64\n",
      " 4   BMI         4221 non-null   float64\n",
      " 5   heartRate   4239 non-null   float64\n",
      "dtypes: float64(6)\n",
      "memory usage: 198.9 KB\n"
     ]
    }
   ],
   "source": [
    "data2[columnss].info()"
   ]
  },
  {
   "cell_type": "code",
   "execution_count": 19,
   "metadata": {
    "colab": {
     "base_uri": "https://localhost:8080/",
     "height": 272
    },
    "id": "cFEbB_VlZRqD",
    "outputId": "10495f4f-48bf-49b3-bf00-17822d26c1c1"
   },
   "outputs": [
    {
     "data": {
      "text/plain": [
       "education     0.024764\n",
       "cigsPerDay    0.006840\n",
       "BPMeds        0.012500\n",
       "totChol       0.011792\n",
       "BMI           0.004481\n",
       "heartRate     0.000236\n",
       "dtype: float64"
      ]
     },
     "execution_count": 19,
     "metadata": {},
     "output_type": "execute_result"
    }
   ],
   "source": [
    "data2[columnss].isnull().mean()"
   ]
  },
  {
   "cell_type": "code",
   "execution_count": 20,
   "metadata": {
    "id": "YJ_O3jsHZVVi"
   },
   "outputs": [],
   "source": [
    "x = data2[columnss].drop(columns=['BMI'])\n",
    "y = data2[columnss]['BMI']"
   ]
  },
  {
   "cell_type": "code",
   "execution_count": 21,
   "metadata": {
    "id": "GJYH9uLSZdky"
   },
   "outputs": [],
   "source": [
    "x_train,x_test,y_train,y_test = train_test_split(x,y,test_size=0.2,random_state=2)"
   ]
  },
  {
   "cell_type": "code",
   "execution_count": 22,
   "metadata": {
    "colab": {
     "base_uri": "https://localhost:8080/"
    },
    "id": "xOJnw6KmZfyz",
    "outputId": "12fec579-aeff-43b6-a82c-c17f88be2370"
   },
   "outputs": [
    {
     "data": {
      "text/plain": [
       "((3392, 5), (848, 5))"
      ]
     },
     "execution_count": 22,
     "metadata": {},
     "output_type": "execute_result"
    }
   ],
   "source": [
    "x_train.shape , x_test.shape"
   ]
  },
  {
   "cell_type": "code",
   "execution_count": 23,
   "metadata": {
    "colab": {
     "base_uri": "https://localhost:8080/",
     "height": 241
    },
    "id": "Pu2RjYopZg8i",
    "outputId": "c7349804-3b03-4d64-dae9-de09a0eeb919"
   },
   "outputs": [
    {
     "data": {
      "text/plain": [
       "education     0.025354\n",
       "cigsPerDay    0.006781\n",
       "BPMeds        0.012677\n",
       "totChol       0.012677\n",
       "heartRate     0.000000\n",
       "dtype: float64"
      ]
     },
     "execution_count": 23,
     "metadata": {},
     "output_type": "execute_result"
    }
   ],
   "source": [
    "x_train.isnull().mean()"
   ]
  },
  {
   "cell_type": "code",
   "execution_count": 24,
   "metadata": {
    "id": "RBQqvjzFZiPy"
   },
   "outputs": [],
   "source": [
    "mean_education = x_train['education'].mean()\n",
    "median_education = x_train['education'].median()\n",
    "\n",
    "mean_cigsPerDay = x_train['cigsPerDay'].mean()\n",
    "median_cigsPerDay = x_train['cigsPerDay'].median()"
   ]
  },
  {
   "cell_type": "code",
   "execution_count": 25,
   "metadata": {
    "id": "GEx69QtcZj3j"
   },
   "outputs": [],
   "source": [
    "x_train['education_mean']= x_train['education'].fillna(mean_education)\n",
    "x_train['education_median'] = x_train['education'].fillna(median_education)\n",
    "\n",
    "x_train['cigsPerDay_mean'] = x_train['cigsPerDay'].fillna(mean_cigsPerDay)\n",
    "x_train['cigsPerDay_median'] = x_train['cigsPerDay'].fillna(median_cigsPerDay)"
   ]
  },
  {
   "cell_type": "code",
   "execution_count": 26,
   "metadata": {
    "colab": {
     "base_uri": "https://localhost:8080/",
     "height": 206
    },
    "id": "Tjv2tckhZnOT",
    "outputId": "d774322e-4204-4bcf-8336-9b69b7cd280a"
   },
   "outputs": [
    {
     "data": {
      "text/html": [
       "<div>\n",
       "<style scoped>\n",
       "    .dataframe tbody tr th:only-of-type {\n",
       "        vertical-align: middle;\n",
       "    }\n",
       "\n",
       "    .dataframe tbody tr th {\n",
       "        vertical-align: top;\n",
       "    }\n",
       "\n",
       "    .dataframe thead th {\n",
       "        text-align: right;\n",
       "    }\n",
       "</style>\n",
       "<table border=\"1\" class=\"dataframe\">\n",
       "  <thead>\n",
       "    <tr style=\"text-align: right;\">\n",
       "      <th></th>\n",
       "      <th>education</th>\n",
       "      <th>cigsPerDay</th>\n",
       "      <th>BPMeds</th>\n",
       "      <th>totChol</th>\n",
       "      <th>heartRate</th>\n",
       "      <th>education_mean</th>\n",
       "      <th>education_median</th>\n",
       "      <th>cigsPerDay_mean</th>\n",
       "      <th>cigsPerDay_median</th>\n",
       "    </tr>\n",
       "  </thead>\n",
       "  <tbody>\n",
       "    <tr>\n",
       "      <th>3592</th>\n",
       "      <td>1.0</td>\n",
       "      <td>20.0</td>\n",
       "      <td>0.0</td>\n",
       "      <td>246.0</td>\n",
       "      <td>85.0</td>\n",
       "      <td>1.0</td>\n",
       "      <td>1.0</td>\n",
       "      <td>20.0</td>\n",
       "      <td>20.0</td>\n",
       "    </tr>\n",
       "    <tr>\n",
       "      <th>3834</th>\n",
       "      <td>3.0</td>\n",
       "      <td>20.0</td>\n",
       "      <td>0.0</td>\n",
       "      <td>207.0</td>\n",
       "      <td>67.0</td>\n",
       "      <td>3.0</td>\n",
       "      <td>3.0</td>\n",
       "      <td>20.0</td>\n",
       "      <td>20.0</td>\n",
       "    </tr>\n",
       "    <tr>\n",
       "      <th>3398</th>\n",
       "      <td>2.0</td>\n",
       "      <td>3.0</td>\n",
       "      <td>0.0</td>\n",
       "      <td>239.0</td>\n",
       "      <td>66.0</td>\n",
       "      <td>2.0</td>\n",
       "      <td>2.0</td>\n",
       "      <td>3.0</td>\n",
       "      <td>3.0</td>\n",
       "    </tr>\n",
       "    <tr>\n",
       "      <th>4000</th>\n",
       "      <td>4.0</td>\n",
       "      <td>20.0</td>\n",
       "      <td>0.0</td>\n",
       "      <td>200.0</td>\n",
       "      <td>70.0</td>\n",
       "      <td>4.0</td>\n",
       "      <td>4.0</td>\n",
       "      <td>20.0</td>\n",
       "      <td>20.0</td>\n",
       "    </tr>\n",
       "    <tr>\n",
       "      <th>2563</th>\n",
       "      <td>2.0</td>\n",
       "      <td>0.0</td>\n",
       "      <td>0.0</td>\n",
       "      <td>273.0</td>\n",
       "      <td>90.0</td>\n",
       "      <td>2.0</td>\n",
       "      <td>2.0</td>\n",
       "      <td>0.0</td>\n",
       "      <td>0.0</td>\n",
       "    </tr>\n",
       "  </tbody>\n",
       "</table>\n",
       "</div>"
      ],
      "text/plain": [
       "      education  cigsPerDay  BPMeds  totChol  heartRate  education_mean  \\\n",
       "3592        1.0        20.0     0.0    246.0       85.0             1.0   \n",
       "3834        3.0        20.0     0.0    207.0       67.0             3.0   \n",
       "3398        2.0         3.0     0.0    239.0       66.0             2.0   \n",
       "4000        4.0        20.0     0.0    200.0       70.0             4.0   \n",
       "2563        2.0         0.0     0.0    273.0       90.0             2.0   \n",
       "\n",
       "      education_median  cigsPerDay_mean  cigsPerDay_median  \n",
       "3592               1.0             20.0               20.0  \n",
       "3834               3.0             20.0               20.0  \n",
       "3398               2.0              3.0                3.0  \n",
       "4000               4.0             20.0               20.0  \n",
       "2563               2.0              0.0                0.0  "
      ]
     },
     "execution_count": 26,
     "metadata": {},
     "output_type": "execute_result"
    }
   ],
   "source": [
    "x_train.sample(5)"
   ]
  },
  {
   "cell_type": "markdown",
   "metadata": {
    "id": "Oirn6jXhZrq9"
   },
   "source": [
    "Checking for variance after filling values"
   ]
  },
  {
   "cell_type": "code",
   "execution_count": 27,
   "metadata": {
    "colab": {
     "base_uri": "https://localhost:8080/"
    },
    "id": "Yy4aw04gZovS",
    "outputId": "c1e613cc-adaa-471d-c6bc-e0db390cd16c"
   },
   "outputs": [
    {
     "name": "stdout",
     "output_type": "stream",
     "text": [
      "original education variance:  1.041305909669578\n",
      "education variance after mean:  1.0148970897841212\n",
      "education variance after median:  1.0149007083122359\n",
      "original CigsPerDay variance:  139.88760805697325\n",
      "CigsPerDay variance after mean:  139.88760805697325\n",
      "CigsPerDay variance after median:  139.88760805697325\n"
     ]
    }
   ],
   "source": [
    "print('original education variance: ',x_train['education'].var())\n",
    "print('education variance after mean: ',x_train['education_mean'].var())\n",
    "print('education variance after median: ',x_train['education_median'].var())\n",
    "\n",
    "print('original CigsPerDay variance: ',x_train['cigsPerDay'].var())\n",
    "print('CigsPerDay variance after mean: ',x_train['cigsPerDay'].var())\n",
    "print('CigsPerDay variance after median: ',x_train['cigsPerDay'].var())"
   ]
  },
  {
   "cell_type": "code",
   "execution_count": 28,
   "metadata": {
    "colab": {
     "base_uri": "https://localhost:8080/",
     "height": 430
    },
    "id": "-zMb47PVZtdD",
    "outputId": "c50c2434-ba1d-45e7-982d-5f2d0165f74f"
   },
   "outputs": [
    {
     "data": {
      "image/png": "[encoded data removed]",
      "text/plain": [
       "<Figure size 640x480 with 1 Axes>"
      ]
     },
     "metadata": {},
     "output_type": "display_data"
    }
   ],
   "source": [
    "#Education\n",
    "\n",
    "fig = plt.figure()\n",
    "ax = fig.add_subplot(111)\n",
    "\n",
    "#original\n",
    "x_train['education'].plot(kind = 'kde', ax=ax)\n",
    "\n",
    "#mean\n",
    "x_train['education_mean'].plot(kind = 'kde', ax=ax, color = 'green' )\n",
    "\n",
    "#median\n",
    "x_train['education_median'].plot(kind = 'kde', ax=ax, color = 'red' )\n",
    "\n",
    "#add legends\n",
    "lines , labels = ax.get_legend_handles_labels()\n",
    "ax.legend(lines , labels , loc = 'best')\n",
    "\n",
    "plt.savefig('variance.png')\n",
    "\n",
    "plt.show()"
   ]
  },
  {
   "cell_type": "code",
   "execution_count": 29,
   "metadata": {
    "colab": {
     "base_uri": "https://localhost:8080/",
     "height": 430
    },
    "id": "su0rmZJ2bQWU",
    "outputId": "6740582e-cf71-422f-db71-66d9b7c9c94e"
   },
   "outputs": [
    {
     "data": {
      "image/png": "[encoded data removed]",
      "text/plain": [
       "<Figure size 640x480 with 1 Axes>"
      ]
     },
     "metadata": {},
     "output_type": "display_data"
    }
   ],
   "source": [
    "#Cigeretes per day\n",
    "\n",
    "fig = plt.figure()\n",
    "ax = fig.add_subplot(111)\n",
    "\n",
    "#original\n",
    "x_train['cigsPerDay'].plot(kind = 'kde', ax=ax)\n",
    "\n",
    "#mean\n",
    "x_train['cigsPerDay_mean'].plot(kind = 'kde', ax=ax, color = 'green' )\n",
    "\n",
    "#median\n",
    "x_train['cigsPerDay_median'].plot(kind = 'kde', ax=ax, color = 'red' )\n",
    "\n",
    "#add legends\n",
    "lines , labels = ax.get_legend_handles_labels()\n",
    "ax.legend(lines , labels , loc = 'best')\n",
    "\n",
    "plt.savefig('variance2.png')\n",
    "\n",
    "plt.show()"
   ]
  },
  {
   "cell_type": "code",
   "execution_count": 30,
   "metadata": {
    "colab": {
     "base_uri": "https://localhost:8080/",
     "height": 351
    },
    "id": "JIvwvLKHbM8y",
    "outputId": "f3ff92c2-a504-4f42-e6e7-ba1fac750b5a"
   },
   "outputs": [
    {
     "data": {
      "text/html": [
       "<div>\n",
       "<style scoped>\n",
       "    .dataframe tbody tr th:only-of-type {\n",
       "        vertical-align: middle;\n",
       "    }\n",
       "\n",
       "    .dataframe tbody tr th {\n",
       "        vertical-align: top;\n",
       "    }\n",
       "\n",
       "    .dataframe thead th {\n",
       "        text-align: right;\n",
       "    }\n",
       "</style>\n",
       "<table border=\"1\" class=\"dataframe\">\n",
       "  <thead>\n",
       "    <tr style=\"text-align: right;\">\n",
       "      <th></th>\n",
       "      <th>education</th>\n",
       "      <th>cigsPerDay</th>\n",
       "      <th>BPMeds</th>\n",
       "      <th>totChol</th>\n",
       "      <th>heartRate</th>\n",
       "      <th>education_mean</th>\n",
       "      <th>education_median</th>\n",
       "      <th>cigsPerDay_mean</th>\n",
       "      <th>cigsPerDay_median</th>\n",
       "    </tr>\n",
       "  </thead>\n",
       "  <tbody>\n",
       "    <tr>\n",
       "      <th>education</th>\n",
       "      <td>1.041306</td>\n",
       "      <td>0.149084</td>\n",
       "      <td>0.000950</td>\n",
       "      <td>-1.282205</td>\n",
       "      <td>-0.819853</td>\n",
       "      <td>1.041306</td>\n",
       "      <td>1.041306</td>\n",
       "      <td>0.148080</td>\n",
       "      <td>0.144686</td>\n",
       "    </tr>\n",
       "    <tr>\n",
       "      <th>cigsPerDay</th>\n",
       "      <td>0.149084</td>\n",
       "      <td>139.887608</td>\n",
       "      <td>-0.082887</td>\n",
       "      <td>-16.643974</td>\n",
       "      <td>10.999415</td>\n",
       "      <td>0.145310</td>\n",
       "      <td>0.144951</td>\n",
       "      <td>139.887608</td>\n",
       "      <td>139.887608</td>\n",
       "    </tr>\n",
       "    <tr>\n",
       "      <th>BPMeds</th>\n",
       "      <td>0.000950</td>\n",
       "      <td>-0.082887</td>\n",
       "      <td>0.028977</td>\n",
       "      <td>0.564144</td>\n",
       "      <td>0.032353</td>\n",
       "      <td>0.000926</td>\n",
       "      <td>0.000927</td>\n",
       "      <td>-0.082318</td>\n",
       "      <td>-0.080501</td>\n",
       "    </tr>\n",
       "    <tr>\n",
       "      <th>totChol</th>\n",
       "      <td>-1.282205</td>\n",
       "      <td>-16.643974</td>\n",
       "      <td>0.564144</td>\n",
       "      <td>1928.469020</td>\n",
       "      <td>49.237339</td>\n",
       "      <td>-1.249711</td>\n",
       "      <td>-1.249353</td>\n",
       "      <td>-16.528433</td>\n",
       "      <td>-16.921240</td>\n",
       "    </tr>\n",
       "    <tr>\n",
       "      <th>heartRate</th>\n",
       "      <td>-0.819853</td>\n",
       "      <td>10.999415</td>\n",
       "      <td>0.032353</td>\n",
       "      <td>49.237339</td>\n",
       "      <td>146.287663</td>\n",
       "      <td>-0.799060</td>\n",
       "      <td>-0.799656</td>\n",
       "      <td>10.924810</td>\n",
       "      <td>10.708862</td>\n",
       "    </tr>\n",
       "    <tr>\n",
       "      <th>education_mean</th>\n",
       "      <td>1.041306</td>\n",
       "      <td>0.145310</td>\n",
       "      <td>0.000926</td>\n",
       "      <td>-1.249711</td>\n",
       "      <td>-0.799060</td>\n",
       "      <td>1.014897</td>\n",
       "      <td>1.014897</td>\n",
       "      <td>0.144325</td>\n",
       "      <td>0.141017</td>\n",
       "    </tr>\n",
       "    <tr>\n",
       "      <th>education_median</th>\n",
       "      <td>1.041306</td>\n",
       "      <td>0.144951</td>\n",
       "      <td>0.000927</td>\n",
       "      <td>-1.249353</td>\n",
       "      <td>-0.799656</td>\n",
       "      <td>1.014897</td>\n",
       "      <td>1.014901</td>\n",
       "      <td>0.143968</td>\n",
       "      <td>0.140647</td>\n",
       "    </tr>\n",
       "    <tr>\n",
       "      <th>cigsPerDay_mean</th>\n",
       "      <td>0.148080</td>\n",
       "      <td>139.887608</td>\n",
       "      <td>-0.082318</td>\n",
       "      <td>-16.528433</td>\n",
       "      <td>10.924810</td>\n",
       "      <td>0.144325</td>\n",
       "      <td>0.143968</td>\n",
       "      <td>138.938798</td>\n",
       "      <td>138.938798</td>\n",
       "    </tr>\n",
       "    <tr>\n",
       "      <th>cigsPerDay_median</th>\n",
       "      <td>0.144686</td>\n",
       "      <td>139.887608</td>\n",
       "      <td>-0.080501</td>\n",
       "      <td>-16.921240</td>\n",
       "      <td>10.708862</td>\n",
       "      <td>0.141017</td>\n",
       "      <td>0.140647</td>\n",
       "      <td>138.938798</td>\n",
       "      <td>139.467435</td>\n",
       "    </tr>\n",
       "  </tbody>\n",
       "</table>\n",
       "</div>"
      ],
      "text/plain": [
       "                   education  cigsPerDay    BPMeds      totChol   heartRate  \\\n",
       "education           1.041306    0.149084  0.000950    -1.282205   -0.819853   \n",
       "cigsPerDay          0.149084  139.887608 -0.082887   -16.643974   10.999415   \n",
       "BPMeds              0.000950   -0.082887  0.028977     0.564144    0.032353   \n",
       "totChol            -1.282205  -16.643974  0.564144  1928.469020   49.237339   \n",
       "heartRate          -0.819853   10.999415  0.032353    49.237339  146.287663   \n",
       "education_mean      1.041306    0.145310  0.000926    -1.249711   -0.799060   \n",
       "education_median    1.041306    0.144951  0.000927    -1.249353   -0.799656   \n",
       "cigsPerDay_mean     0.148080  139.887608 -0.082318   -16.528433   10.924810   \n",
       "cigsPerDay_median   0.144686  139.887608 -0.080501   -16.921240   10.708862   \n",
       "\n",
       "                   education_mean  education_median  cigsPerDay_mean  \\\n",
       "education                1.041306          1.041306         0.148080   \n",
       "cigsPerDay               0.145310          0.144951       139.887608   \n",
       "BPMeds                   0.000926          0.000927        -0.082318   \n",
       "totChol                 -1.249711         -1.249353       -16.528433   \n",
       "heartRate               -0.799060         -0.799656        10.924810   \n",
       "education_mean           1.014897          1.014897         0.144325   \n",
       "education_median         1.014897          1.014901         0.143968   \n",
       "cigsPerDay_mean          0.144325          0.143968       138.938798   \n",
       "cigsPerDay_median        0.141017          0.140647       138.938798   \n",
       "\n",
       "                   cigsPerDay_median  \n",
       "education                   0.144686  \n",
       "cigsPerDay                139.887608  \n",
       "BPMeds                     -0.080501  \n",
       "totChol                   -16.921240  \n",
       "heartRate                  10.708862  \n",
       "education_mean              0.141017  \n",
       "education_median            0.140647  \n",
       "cigsPerDay_mean           138.938798  \n",
       "cigsPerDay_median         139.467435  "
      ]
     },
     "execution_count": 30,
     "metadata": {},
     "output_type": "execute_result"
    }
   ],
   "source": [
    "x_train.cov()          #for covariance"
   ]
  },
  {
   "cell_type": "code",
   "execution_count": 31,
   "metadata": {
    "colab": {
     "base_uri": "https://localhost:8080/",
     "height": 351
    },
    "id": "YXSbhJcFbWWj",
    "outputId": "8e4573d9-0a78-4581-f7fe-c6e567171584"
   },
   "outputs": [
    {
     "data": {
      "text/html": [
       "<div>\n",
       "<style scoped>\n",
       "    .dataframe tbody tr th:only-of-type {\n",
       "        vertical-align: middle;\n",
       "    }\n",
       "\n",
       "    .dataframe tbody tr th {\n",
       "        vertical-align: top;\n",
       "    }\n",
       "\n",
       "    .dataframe thead th {\n",
       "        text-align: right;\n",
       "    }\n",
       "</style>\n",
       "<table border=\"1\" class=\"dataframe\">\n",
       "  <thead>\n",
       "    <tr style=\"text-align: right;\">\n",
       "      <th></th>\n",
       "      <th>education</th>\n",
       "      <th>cigsPerDay</th>\n",
       "      <th>BPMeds</th>\n",
       "      <th>totChol</th>\n",
       "      <th>heartRate</th>\n",
       "      <th>education_mean</th>\n",
       "      <th>education_median</th>\n",
       "      <th>cigsPerDay_mean</th>\n",
       "      <th>cigsPerDay_median</th>\n",
       "    </tr>\n",
       "  </thead>\n",
       "  <tbody>\n",
       "    <tr>\n",
       "      <th>education</th>\n",
       "      <td>1.000000</td>\n",
       "      <td>0.012349</td>\n",
       "      <td>0.005483</td>\n",
       "      <td>-0.028934</td>\n",
       "      <td>-0.066289</td>\n",
       "      <td>1.000000</td>\n",
       "      <td>1.000000</td>\n",
       "      <td>0.012310</td>\n",
       "      <td>0.012005</td>\n",
       "    </tr>\n",
       "    <tr>\n",
       "      <th>cigsPerDay</th>\n",
       "      <td>0.012349</td>\n",
       "      <td>1.000000</td>\n",
       "      <td>-0.041079</td>\n",
       "      <td>-0.032089</td>\n",
       "      <td>0.076900</td>\n",
       "      <td>0.012191</td>\n",
       "      <td>0.012161</td>\n",
       "      <td>1.000000</td>\n",
       "      <td>1.000000</td>\n",
       "    </tr>\n",
       "    <tr>\n",
       "      <th>BPMeds</th>\n",
       "      <td>0.005483</td>\n",
       "      <td>-0.041079</td>\n",
       "      <td>1.000000</td>\n",
       "      <td>0.076124</td>\n",
       "      <td>0.015678</td>\n",
       "      <td>0.005400</td>\n",
       "      <td>0.005409</td>\n",
       "      <td>-0.041075</td>\n",
       "      <td>-0.040091</td>\n",
       "    </tr>\n",
       "    <tr>\n",
       "      <th>totChol</th>\n",
       "      <td>-0.028934</td>\n",
       "      <td>-0.032089</td>\n",
       "      <td>0.076124</td>\n",
       "      <td>1.000000</td>\n",
       "      <td>0.092575</td>\n",
       "      <td>-0.028204</td>\n",
       "      <td>-0.028195</td>\n",
       "      <td>-0.031958</td>\n",
       "      <td>-0.032655</td>\n",
       "    </tr>\n",
       "    <tr>\n",
       "      <th>heartRate</th>\n",
       "      <td>-0.066289</td>\n",
       "      <td>0.076900</td>\n",
       "      <td>0.015678</td>\n",
       "      <td>0.092575</td>\n",
       "      <td>1.000000</td>\n",
       "      <td>-0.065579</td>\n",
       "      <td>-0.065628</td>\n",
       "      <td>0.076630</td>\n",
       "      <td>0.074973</td>\n",
       "    </tr>\n",
       "    <tr>\n",
       "      <th>education_mean</th>\n",
       "      <td>1.000000</td>\n",
       "      <td>0.012191</td>\n",
       "      <td>0.005400</td>\n",
       "      <td>-0.028204</td>\n",
       "      <td>-0.065579</td>\n",
       "      <td>1.000000</td>\n",
       "      <td>0.999998</td>\n",
       "      <td>0.012154</td>\n",
       "      <td>0.011853</td>\n",
       "    </tr>\n",
       "    <tr>\n",
       "      <th>education_median</th>\n",
       "      <td>1.000000</td>\n",
       "      <td>0.012161</td>\n",
       "      <td>0.005409</td>\n",
       "      <td>-0.028195</td>\n",
       "      <td>-0.065628</td>\n",
       "      <td>0.999998</td>\n",
       "      <td>1.000000</td>\n",
       "      <td>0.012124</td>\n",
       "      <td>0.011822</td>\n",
       "    </tr>\n",
       "    <tr>\n",
       "      <th>cigsPerDay_mean</th>\n",
       "      <td>0.012310</td>\n",
       "      <td>1.000000</td>\n",
       "      <td>-0.041075</td>\n",
       "      <td>-0.031958</td>\n",
       "      <td>0.076630</td>\n",
       "      <td>0.012154</td>\n",
       "      <td>0.012124</td>\n",
       "      <td>1.000000</td>\n",
       "      <td>0.998103</td>\n",
       "    </tr>\n",
       "    <tr>\n",
       "      <th>cigsPerDay_median</th>\n",
       "      <td>0.012005</td>\n",
       "      <td>1.000000</td>\n",
       "      <td>-0.040091</td>\n",
       "      <td>-0.032655</td>\n",
       "      <td>0.074973</td>\n",
       "      <td>0.011853</td>\n",
       "      <td>0.011822</td>\n",
       "      <td>0.998103</td>\n",
       "      <td>1.000000</td>\n",
       "    </tr>\n",
       "  </tbody>\n",
       "</table>\n",
       "</div>"
      ],
      "text/plain": [
       "                   education  cigsPerDay    BPMeds   totChol  heartRate  \\\n",
       "education           1.000000    0.012349  0.005483 -0.028934  -0.066289   \n",
       "cigsPerDay          0.012349    1.000000 -0.041079 -0.032089   0.076900   \n",
       "BPMeds              0.005483   -0.041079  1.000000  0.076124   0.015678   \n",
       "totChol            -0.028934   -0.032089  0.076124  1.000000   0.092575   \n",
       "heartRate          -0.066289    0.076900  0.015678  0.092575   1.000000   \n",
       "education_mean      1.000000    0.012191  0.005400 -0.028204  -0.065579   \n",
       "education_median    1.000000    0.012161  0.005409 -0.028195  -0.065628   \n",
       "cigsPerDay_mean     0.012310    1.000000 -0.041075 -0.031958   0.076630   \n",
       "cigsPerDay_median   0.012005    1.000000 -0.040091 -0.032655   0.074973   \n",
       "\n",
       "                   education_mean  education_median  cigsPerDay_mean  \\\n",
       "education                1.000000          1.000000         0.012310   \n",
       "cigsPerDay               0.012191          0.012161         1.000000   \n",
       "BPMeds                   0.005400          0.005409        -0.041075   \n",
       "totChol                 -0.028204         -0.028195        -0.031958   \n",
       "heartRate               -0.065579         -0.065628         0.076630   \n",
       "education_mean           1.000000          0.999998         0.012154   \n",
       "education_median         0.999998          1.000000         0.012124   \n",
       "cigsPerDay_mean          0.012154          0.012124         1.000000   \n",
       "cigsPerDay_median        0.011853          0.011822         0.998103   \n",
       "\n",
       "                   cigsPerDay_median  \n",
       "education                   0.012005  \n",
       "cigsPerDay                  1.000000  \n",
       "BPMeds                     -0.040091  \n",
       "totChol                    -0.032655  \n",
       "heartRate                   0.074973  \n",
       "education_mean              0.011853  \n",
       "education_median            0.011822  \n",
       "cigsPerDay_mean             0.998103  \n",
       "cigsPerDay_median           1.000000  "
      ]
     },
     "execution_count": 31,
     "metadata": {},
     "output_type": "execute_result"
    }
   ],
   "source": [
    "x_train.corr()       #for correlation"
   ]
  }
 ],
 "metadata": {
  "colab": {
   "provenance": []
  },
  "kernelspec": {
   "display_name": "Python 3 (ipykernel)",
   "language": "python",
   "name": "python3"
  },
  "language_info": {
   "codemirror_mode": {
    "name": "ipython",
    "version": 3
   },
   "file_extension": ".py",
   "mimetype": "text/x-python",
   "name": "python",
   "nbconvert_exporter": "python",
   "pygments_lexer": "ipython3",
   "version": "3.12.9"
  }
 },
 "nbformat": 4,
 "nbformat_minor": 4
}
